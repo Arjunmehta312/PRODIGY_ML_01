{
 "cells": [
  {
   "cell_type": "markdown",
   "id": "a6d0a002-3722-4b37-b88a-7f7ecd53453a",
   "metadata": {},
   "source": [
    "### Arjun Mehta"
   ]
  },
  {
   "cell_type": "markdown",
   "id": "0be10218-348f-4f9b-b2fc-fd2e91071ba3",
   "metadata": {},
   "source": [
    "#### Prodigy Infotech's Machine Learning Internship's First Project"
   ]
  },
  {
   "cell_type": "markdown",
   "id": "197caebb-ddcd-4548-b334-5f8f0a349f72",
   "metadata": {},
   "source": [
    "Implement a linear regression model to predict the prices of houses based on their square footage and the number of bedrooms and bathrooms"
   ]
  },
  {
   "cell_type": "code",
   "execution_count": 38,
   "id": "d447d3c6-b6b3-4024-9619-67719adbb17a",
   "metadata": {},
   "outputs": [],
   "source": [
    "import pandas as pd                              # Importing libraries\n",
    "from sklearn.linear_model import LinearRegression\n",
    "from sklearn.metrics import mean_squared_error\n",
    "import numpy as np"
   ]
  },
  {
   "cell_type": "code",
   "execution_count": 39,
   "id": "de623b36-dd4a-4297-a349-5aef611eb37f",
   "metadata": {},
   "outputs": [
    {
     "name": "stdout",
     "output_type": "stream",
     "text": [
      "Train data has been loaded successfully with shape=  (1460, 81)\n",
      "Test data has been loaded successfully with shape=  (1459, 80)\n"
     ]
    }
   ],
   "source": [
    "data_train=pd.read_csv('train.csv')              # Loading datasets\n",
    "data_test=pd.read_csv('test.csv')\n",
    "\n",
    "print(\"Train data has been loaded successfully with shape= \",data_train.shape)\n",
    "print(\"Test data has been loaded successfully with shape= \",data_test.shape)"
   ]
  },
  {
   "cell_type": "code",
   "execution_count": 40,
   "id": "82ef8ede-d969-44fe-a4c9-dff5455fd81f",
   "metadata": {},
   "outputs": [
    {
     "name": "stdout",
     "output_type": "stream",
     "text": [
      "New shape=  (1460, 7)\n"
     ]
    }
   ],
   "source": [
    "columns_selected=['HalfBath','FullBath','BsmtHalfBath','BsmtFullBath','BedroomAbvGr','LotArea','SalePrice'] # Remove rows with missing values\n",
    "data_train=data_train[columns_selected].dropna()\n",
    "\n",
    "print(\"New shape= \",data_train.shape)"
   ]
  },
  {
   "cell_type": "code",
   "execution_count": 41,
   "id": "c38edc65-5039-468e-9012-5ac896691c81",
   "metadata": {},
   "outputs": [
    {
     "name": "stdout",
     "output_type": "stream",
     "text": [
      "Features and target variable separated successfully.\n"
     ]
    }
   ],
   "source": [
    "features_train=data_train[['HalfBath','FullBath','BsmtHalfBath','BsmtFullBath','BedroomAbvGr','LotArea']]   # Features and Target for the training set\n",
    "target_train=data_train['SalePrice']\n",
    "\n",
    "x_train=features_train\n",
    "y_train=target_train\n",
    "\n",
    "print(\"Features and target variable separated successfully.\")"
   ]
  },
  {
   "cell_type": "code",
   "execution_count": 42,
   "id": "0fec0b27-7d3b-46b6-8d4c-6d9f928052dd",
   "metadata": {},
   "outputs": [
    {
     "name": "stdout",
     "output_type": "stream",
     "text": [
      "Model trained successfully.\n"
     ]
    }
   ],
   "source": [
    "lr_model=LinearRegression()\n",
    "lr_model.fit(x_train,y_train)\n",
    "\n",
    "print(\"Model trained successfully.\")"
   ]
  },
  {
   "cell_type": "code",
   "execution_count": 43,
   "id": "0f4d235a-a880-4c5f-b5d5-8779ea222934",
   "metadata": {},
   "outputs": [
    {
     "name": "stdout",
     "output_type": "stream",
     "text": [
      "Predictions made successfully.\n"
     ]
    }
   ],
   "source": [
    "features_test=data_test[['HalfBath','FullBath','BsmtHalfBath','BsmtFullBath','BedroomAbvGr','LotArea']]\n",
    "features_test_clean=features_test.dropna()\n",
    "\n",
    "x_test=features_test\n",
    "x_clean=features_test_clean\n",
    "\n",
    "predicted_prices=lr_model.predict(x_clean)\n",
    "\n",
    "print(\"Predictions made successfully.\")"
   ]
  },
  {
   "cell_type": "code",
   "execution_count": 46,
   "id": "427de1d2-e2bb-4cbf-82e0-b0ff4e5a7710",
   "metadata": {
    "scrolled": true
   },
   "outputs": [
    {
     "name": "stdout",
     "output_type": "stream",
     "text": [
      "Obtained first 100 predictions are= \n",
      "[112606.11979799 145550.48551851 224695.03092122 219826.65759956\n",
      " 183940.0351052  219854.46243161 217865.27499526 217834.82053961\n",
      " 184100.42903894 145476.79911255 221960.92762998 136419.88508699\n",
      " 129642.33001495 210097.49409225 100799.17702256 223466.56288678\n",
      " 187119.13762091 185396.50188949 188685.05520802 262231.86659704\n",
      " 261410.36019541 186628.25682253 194210.63365098 181662.56658868\n",
      " 260968.01059453 218055.99534004 222471.14902621 188972.70970718\n",
      " 189260.86887575 227751.91583347 222281.06595643 110303.37416142\n",
      " 227255.72509389 253992.03013009 251452.94342106 220668.00293941\n",
      " 218435.91132739 218056.75452664 254151.5305036  254151.5305036\n",
      " 254702.5717207  217030.50345261 194261.3266297  253484.71920368\n",
      " 217890.55211531 214217.02738542 251019.4408122  290122.49055405\n",
      " 169253.5361487  176594.89290945 140595.02804427 220013.83019952\n",
      " 184233.75436718 241148.59282701 183126.61650899 192777.42094414\n",
      " 149243.09000003 174507.62324129 218139.5317478  138256.89443963\n",
      " 104694.8858917  177140.87870254 101733.67127782 127538.31238271\n",
      " 104909.74141212 152032.42019756 123681.02386306 138274.58842367\n",
      " 137168.59250988 147195.64327596 134149.36243148 140528.80286273\n",
      " 151201.04153241  99860.6366821  106117.98775052 101552.93986946\n",
      " 110121.37889706 182969.89836468 261908.43523897 175490.90321124\n",
      " 147642.92638926 134887.33242535 137368.28175828 141179.68870403\n",
      " 142443.54470653 150883.69176419 135557.17610668 135102.18794578\n",
      " 105804.04679249 171945.7871242  142595.20742683 130971.14734299\n",
      " 143822.79436309 110799.0442989  190127.11490688 140956.3689494\n",
      " 140595.02804427  98724.43013585 128892.10421886 222201.06027046]\n"
     ]
    }
   ],
   "source": [
    "# Just checking predictions\n",
    "print(\"Obtained first 100 predictions are= \")\n",
    "print(predicted_prices[:100])"
   ]
  },
  {
   "cell_type": "code",
   "execution_count": 51,
   "id": "c9113a84-819c-4fa2-bdd0-ae969c8cd740",
   "metadata": {},
   "outputs": [
    {
     "name": "stdout",
     "output_type": "stream",
     "text": [
      "Submission DataFrame prepared.\n"
     ]
    }
   ],
   "source": [
    "if 'Id' in features_test.columns:        #Prepping dataframe entries\n",
    "    df_submission=pd.DataFrame({'Id':features_test['Id'],'SalePrice':predicted_prices})\n",
    "else:\n",
    "    df_submission=pd.DataFrame({'Id':range(len(predicted_prices)),'SalePrice':predicted_prices})\n",
    "\n",
    "print(\"Submission DataFrame prepared.\")"
   ]
  },
  {
   "cell_type": "code",
   "execution_count": 52,
   "id": "b06f0dff-b9a7-4d04-8fed-53352af31e51",
   "metadata": {},
   "outputs": [
    {
     "name": "stdout",
     "output_type": "stream",
     "text": [
      "Saved to 'PRODIGY_ML01_Submission_ArjunMehta.csv'.\n"
     ]
    }
   ],
   "source": [
    "# Saving submission values in the submission dataframe to be given.\n",
    "df_submission.to_csv('PRODIGY_ML01_Submission_ArjunMehta.csv',index=False)\n",
    "\n",
    "print(\"Saved to 'PRODIGY_ML01_Submission_ArjunMehta.csv'.\")"
   ]
  }
 ],
 "metadata": {
  "kernelspec": {
   "display_name": "Python 3 (ipykernel)",
   "language": "python",
   "name": "python3"
  },
  "language_info": {
   "codemirror_mode": {
    "name": "ipython",
    "version": 3
   },
   "file_extension": ".py",
   "mimetype": "text/x-python",
   "name": "python",
   "nbconvert_exporter": "python",
   "pygments_lexer": "ipython3",
   "version": "3.11.4"
  }
 },
 "nbformat": 4,
 "nbformat_minor": 5
}
